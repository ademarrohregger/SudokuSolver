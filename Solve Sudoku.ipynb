{
 "cells": [
  {
   "cell_type": "code",
   "execution_count": 1,
   "metadata": {},
   "outputs": [],
   "source": [
    "import numpy as np"
   ]
  },
  {
   "cell_type": "code",
   "execution_count": 2,
   "metadata": {},
   "outputs": [],
   "source": [
    "def possible_placements(y, x):\n",
    "    row_possible = set(range(1, 10)) - set(puzzle[y, :])\n",
    "    col_possible = set(range(1, 10)) - set(puzzle[:, x])\n",
    "    box_possible = set(range(1, 10)) - set(puzzle[3*int(y / 3):3*(int(y / 3)+1), 3*int(x / 3):3*(int(x / 3)+1)].ravel())\n",
    "    return row_possible & col_possible & box_possible"
   ]
  },
  {
   "cell_type": "code",
   "execution_count": 3,
   "metadata": {},
   "outputs": [],
   "source": [
    "puzzle = np.array(\n",
    "[\n",
    "[0, 2, 0, 0, 0, 0, 0, 0, 0],\n",
    "[0, 0, 0, 6, 0, 0, 0, 0, 3],\n",
    "[0, 7, 4, 0, 8, 0, 0, 0, 0],\n",
    "[0, 0, 0, 0, 0, 3, 0, 0, 2],\n",
    "[0, 8, 0, 0, 4, 0, 0, 1, 0],\n",
    "[6, 0, 0, 5, 0, 0, 0, 0, 0],\n",
    "[0, 0, 0, 0, 1, 0, 7, 8, 0],\n",
    "[5, 0, 0, 0, 0, 9, 0, 0, 0],\n",
    "[0, 0, 0, 0, 0, 0, 0, 4, 0],\n",
    "]\n",
    ")"
   ]
  },
  {
   "cell_type": "code",
   "execution_count": 4,
   "metadata": {},
   "outputs": [],
   "source": [
    "def solver(grid):\n",
    "    for row in range(puzzle.shape[1]):\n",
    "        for col in range(puzzle.shape[0]):\n",
    "            if puzzle[row, col] == 0:\n",
    "                for i in possible_placements(row, col):\n",
    "                    grid[row, col] = i\n",
    "                    ret_grid = solver(grid)\n",
    "                    if ret_grid is not None:\n",
    "                        return ret_grid\n",
    "                    grid[row, col] = 0\n",
    "                return\n",
    "    return grid"
   ]
  },
  {
   "cell_type": "code",
   "execution_count": 5,
   "metadata": {},
   "outputs": [
    {
     "name": "stdout",
     "output_type": "stream",
     "text": [
      "[[1 2 6 4 3 7 9 5 8]\n",
      " [8 9 5 6 2 1 4 7 3]\n",
      " [3 7 4 9 8 5 1 2 6]\n",
      " [4 5 7 1 9 3 8 6 2]\n",
      " [9 8 3 2 4 6 5 1 7]\n",
      " [6 1 2 5 7 8 3 9 4]\n",
      " [2 6 9 3 1 4 7 8 5]\n",
      " [5 4 8 7 6 9 2 3 1]\n",
      " [7 3 1 8 5 2 6 4 9]]\n"
     ]
    }
   ],
   "source": [
    "print(solver(puzzle))"
   ]
  }
 ],
 "metadata": {
  "kernelspec": {
   "display_name": "Python 3",
   "language": "python",
   "name": "python3"
  },
  "language_info": {
   "codemirror_mode": {
    "name": "ipython",
    "version": 3
   },
   "file_extension": ".py",
   "mimetype": "text/x-python",
   "name": "python",
   "nbconvert_exporter": "python",
   "pygments_lexer": "ipython3",
   "version": "3.7.2"
  }
 },
 "nbformat": 4,
 "nbformat_minor": 2
}
